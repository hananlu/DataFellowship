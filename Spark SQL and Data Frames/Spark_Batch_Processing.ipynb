{
  "cells": [
    {
      "cell_type": "code",
      "execution_count": 1,
      "metadata": {
        "id": "_vIySDUaHun9"
      },
      "outputs": [],
      "source": [
        "# Mount Google Drive \n",
        "from google.colab import drive \n",
        "drive.mount('/content/gdrive')"
      ]
    },
    {
      "cell_type": "code",
      "execution_count": 2,
      "metadata": {
        "colab": {
          "base_uri": "https://localhost:8080/"
        },
        "id": "-3OvPd2HTLGW",
        "outputId": "4fc7d3a8-9733-4224-d523-d13d33e8c4ab"
      },
      "outputs": [
        {
          "output_type": "stream",
          "name": "stdout",
          "text": [
            "/content\n"
          ]
        }
      ],
      "source": [
        "!pwd"
      ]
    },
    {
      "cell_type": "code",
      "execution_count": 3,
      "metadata": {
        "id": "ieNXo2XPH4b8"
      },
      "outputs": [],
      "source": [
        "# import os \n",
        "# COLAB_PATH =\"gdrive/MyDrive/spark\"\n",
        "# os.chdir(COLAB_PATH)"
      ]
    },
    {
      "cell_type": "code",
      "execution_count": 4,
      "metadata": {
        "id": "qpKLBdoLpaQg"
      },
      "outputs": [],
      "source": [
        "# # innstall java\n",
        "!apt-get install openjdk-8-jdk-headless -qq > /dev/null\n",
        "\n",
        "# install spark (change the version number if needed)\n",
        "!wget -q https://archive.apache.org/dist/spark/spark-3.0.0/spark-3.0.0-bin-hadoop3.2.tgz\n",
        "\n",
        "# unzip the spark file to the current folder\n",
        "!tar xf spark-3.0.0-bin-hadoop3.2.tgz\n",
        "\n"
      ]
    },
    {
      "cell_type": "code",
      "execution_count": 5,
      "metadata": {
        "colab": {
          "base_uri": "https://localhost:8080/"
        },
        "id": "4KC5GFw_IV9J",
        "outputId": "6b2ace98-3a7f-4ee0-b1ca-ee59d3db3760"
      },
      "outputs": [
        {
          "output_type": "stream",
          "name": "stdout",
          "text": [
            "/content\n"
          ]
        }
      ],
      "source": [
        "!pwd"
      ]
    },
    {
      "cell_type": "code",
      "execution_count": 6,
      "metadata": {
        "id": "139x0nVmH_Za"
      },
      "outputs": [],
      "source": [
        "# set your spark folder to your system path environment. \n",
        "import os\n",
        "os.environ[\"JAVA_HOME\"] = \"/usr/lib/jvm/java-8-openjdk-amd64\"\n",
        "os.environ[\"SPARK_HOME\"] = \"/content/spark-3.0.0-bin-hadoop3.2\"\n",
        "\n",
        "\n",
        "# install findspark using pip\n",
        "!pip install -q findspark"
      ]
    },
    {
      "cell_type": "code",
      "execution_count": 7,
      "metadata": {
        "colab": {
          "base_uri": "https://localhost:8080/"
        },
        "id": "5y6Zs-paVNXO",
        "outputId": "3b45ee8f-3f5b-49b9-b896-3b54cb702e36"
      },
      "outputs": [
        {
          "output_type": "stream",
          "name": "stdout",
          "text": [
            "/content\n"
          ]
        }
      ],
      "source": [
        "!pwd"
      ]
    },
    {
      "cell_type": "code",
      "execution_count": 8,
      "metadata": {
        "id": "U6yr3HbzKis2"
      },
      "outputs": [],
      "source": [
        "import findspark\n",
        "findspark.init()\n",
        "from pyspark.sql import SparkSession\n",
        "spark = SparkSession.builder.master(\"local[*]\").getOrCreate()"
      ]
    },
    {
      "cell_type": "code",
      "execution_count": 9,
      "metadata": {
        "id": "DBf4zQXDJEGL"
      },
      "outputs": [],
      "source": [
        "# !wget https://d37ci6vzurychx.cloudfront.net/trip-data/fhvhv_tripdata_2021-02.parquet"
      ]
    },
    {
      "cell_type": "code",
      "execution_count": 10,
      "metadata": {
        "id": "-wHQG-rZJL5s"
      },
      "outputs": [],
      "source": [
        "import pandas as pd\n",
        "from pyspark.sql import types"
      ]
    },
    {
      "cell_type": "code",
      "execution_count": 11,
      "metadata": {
        "id": "iyQ8fU9IJVFR",
        "colab": {
          "base_uri": "https://localhost:8080/"
        },
        "outputId": "9d11f70f-97de-4f31-b25d-ed1ce55fb314"
      },
      "outputs": [
        {
          "output_type": "stream",
          "name": "stdout",
          "text": [
            "gdrive\tsample_data  spark-3.0.0-bin-hadoop3.2\tspark-3.0.0-bin-hadoop3.2.tgz\n"
          ]
        }
      ],
      "source": [
        "!ls"
      ]
    },
    {
      "cell_type": "code",
      "execution_count": 12,
      "metadata": {
        "id": "6SnwPJlZJO-H"
      },
      "outputs": [],
      "source": [
        "df = spark.read.parquet('/content/gdrive/MyDrive/spark/fhvhv_tripdata_2021-02.parquet')"
      ]
    },
    {
      "cell_type": "code",
      "execution_count": 13,
      "metadata": {
        "id": "aGG594FzJeHG",
        "colab": {
          "base_uri": "https://localhost:8080/"
        },
        "outputId": "e72c8494-e367-4b58-d044-7a6bfdeebf22"
      },
      "outputs": [
        {
          "output_type": "stream",
          "name": "stdout",
          "text": [
            "+-----------------+--------------------+--------------------+-------------------+-------------------+-------------------+-------------------+------------+------------+----------+---------+-------------------+-----+----+---------+--------------------+-----------+----+----------+-------------------+-----------------+------------------+----------------+--------------+\n",
            "|hvfhs_license_num|dispatching_base_num|originating_base_num|   request_datetime|  on_scene_datetime|    pickup_datetime|   dropoff_datetime|PULocationID|DOLocationID|trip_miles|trip_time|base_passenger_fare|tolls| bcf|sales_tax|congestion_surcharge|airport_fee|tips|driver_pay|shared_request_flag|shared_match_flag|access_a_ride_flag|wav_request_flag|wav_match_flag|\n",
            "+-----------------+--------------------+--------------------+-------------------+-------------------+-------------------+-------------------+------------+------------+----------+---------+-------------------+-----+----+---------+--------------------+-----------+----+----------+-------------------+-----------------+------------------+----------------+--------------+\n",
            "|           HV0003|              B02764|              B02764|2021-01-31 23:59:00|2021-02-01 00:10:19|2021-02-01 00:10:40|2021-02-01 00:21:09|          35|          39|      2.06|      629|              17.14|  0.0|0.51|     1.52|                 0.0|       null| 0.0|      9.79|                  N|                N|                  |               N|             N|\n",
            "|           HV0003|              B02764|              B02764|2021-02-01 00:13:35|2021-02-01 00:25:23|2021-02-01 00:27:23|2021-02-01 00:44:01|          39|          35|      3.15|      998|              32.11|  0.0|0.96|     2.85|                 0.0|       null| 0.0|     24.01|                  N|                N|                  |               N|             N|\n",
            "+-----------------+--------------------+--------------------+-------------------+-------------------+-------------------+-------------------+------------+------------+----------+---------+-------------------+-----+----+---------+--------------------+-----------+----+----------+-------------------+-----------------+------------------+----------------+--------------+\n",
            "only showing top 2 rows\n",
            "\n"
          ]
        }
      ],
      "source": [
        "df.show(2)"
      ]
    },
    {
      "cell_type": "code",
      "execution_count": 14,
      "metadata": {
        "id": "0_YxSXchJjC9",
        "colab": {
          "base_uri": "https://localhost:8080/"
        },
        "outputId": "e9d8cb36-966e-411e-a244-0869eba36d13"
      },
      "outputs": [
        {
          "output_type": "execute_result",
          "data": {
            "text/plain": [
              "['hvfhs_license_num',\n",
              " 'dispatching_base_num',\n",
              " 'originating_base_num',\n",
              " 'request_datetime',\n",
              " 'on_scene_datetime',\n",
              " 'pickup_datetime',\n",
              " 'dropoff_datetime',\n",
              " 'PULocationID',\n",
              " 'DOLocationID',\n",
              " 'trip_miles',\n",
              " 'trip_time',\n",
              " 'base_passenger_fare',\n",
              " 'tolls',\n",
              " 'bcf',\n",
              " 'sales_tax',\n",
              " 'congestion_surcharge',\n",
              " 'airport_fee',\n",
              " 'tips',\n",
              " 'driver_pay',\n",
              " 'shared_request_flag',\n",
              " 'shared_match_flag',\n",
              " 'access_a_ride_flag',\n",
              " 'wav_request_flag',\n",
              " 'wav_match_flag']"
            ]
          },
          "metadata": {},
          "execution_count": 14
        }
      ],
      "source": [
        "df.columns"
      ]
    },
    {
      "cell_type": "code",
      "execution_count": 15,
      "metadata": {
        "id": "TWbwETGlJkEX",
        "colab": {
          "base_uri": "https://localhost:8080/"
        },
        "outputId": "ffac53e5-2108-43db-a87c-92d3fec08b66"
      },
      "outputs": [
        {
          "output_type": "execute_result",
          "data": {
            "text/plain": [
              "[('hvfhs_license_num', 'string'),\n",
              " ('dispatching_base_num', 'string'),\n",
              " ('originating_base_num', 'string'),\n",
              " ('request_datetime', 'timestamp'),\n",
              " ('on_scene_datetime', 'timestamp'),\n",
              " ('pickup_datetime', 'timestamp'),\n",
              " ('dropoff_datetime', 'timestamp'),\n",
              " ('PULocationID', 'bigint'),\n",
              " ('DOLocationID', 'bigint'),\n",
              " ('trip_miles', 'double'),\n",
              " ('trip_time', 'bigint'),\n",
              " ('base_passenger_fare', 'double'),\n",
              " ('tolls', 'double'),\n",
              " ('bcf', 'double'),\n",
              " ('sales_tax', 'double'),\n",
              " ('congestion_surcharge', 'double'),\n",
              " ('airport_fee', 'double'),\n",
              " ('tips', 'double'),\n",
              " ('driver_pay', 'double'),\n",
              " ('shared_request_flag', 'string'),\n",
              " ('shared_match_flag', 'string'),\n",
              " ('access_a_ride_flag', 'string'),\n",
              " ('wav_request_flag', 'string'),\n",
              " ('wav_match_flag', 'string')]"
            ]
          },
          "metadata": {},
          "execution_count": 15
        }
      ],
      "source": [
        "df.dtypes"
      ]
    },
    {
      "cell_type": "code",
      "execution_count": 45,
      "metadata": {
        "id": "kpxhLzgFnMz8",
        "colab": {
          "base_uri": "https://localhost:8080/"
        },
        "outputId": "3587ead6-c732-4d0f-be5e-33dbbef22bc3"
      },
      "outputs": [
        {
          "output_type": "stream",
          "name": "stdout",
          "text": [
            "+-----------------+--------------------+--------------------+-------------------+-------------------+-------------------+-------------------+------------+------------+----------+---------+-------------------+-----+----+---------+--------------------+-----------+----+----------+-------------------+-----------------+------------------+----------------+--------------+\n",
            "|hvfhs_license_num|dispatching_base_num|originating_base_num|   request_datetime|  on_scene_datetime|    pickup_datetime|   dropoff_datetime|PULocationID|DOLocationID|trip_miles|trip_time|base_passenger_fare|tolls| bcf|sales_tax|congestion_surcharge|airport_fee|tips|driver_pay|shared_request_flag|shared_match_flag|access_a_ride_flag|wav_request_flag|wav_match_flag|\n",
            "+-----------------+--------------------+--------------------+-------------------+-------------------+-------------------+-------------------+------------+------------+----------+---------+-------------------+-----+----+---------+--------------------+-----------+----+----------+-------------------+-----------------+------------------+----------------+--------------+\n",
            "|           HV0003|              B02764|              B02764|2021-01-31 23:59:00|2021-02-01 00:10:19|2021-02-01 00:10:40|2021-02-01 00:21:09|          35|          39|      2.06|      629|              17.14|  0.0|0.51|     1.52|                 0.0|       null| 0.0|      9.79|                  N|                N|                  |               N|             N|\n",
            "|           HV0003|              B02764|              B02764|2021-02-01 00:13:35|2021-02-01 00:25:23|2021-02-01 00:27:23|2021-02-01 00:44:01|          39|          35|      3.15|      998|              32.11|  0.0|0.96|     2.85|                 0.0|       null| 0.0|     24.01|                  N|                N|                  |               N|             N|\n",
            "+-----------------+--------------------+--------------------+-------------------+-------------------+-------------------+-------------------+------------+------------+----------+---------+-------------------+-----+----+---------+--------------------+-----------+----+----------+-------------------+-----------------+------------------+----------------+--------------+\n",
            "only showing top 2 rows\n",
            "\n"
          ]
        }
      ],
      "source": [
        "df.show(2)"
      ]
    },
    {
      "cell_type": "code",
      "execution_count": 17,
      "metadata": {
        "id": "N6qcsoJvLV9z"
      },
      "outputs": [],
      "source": [
        "df.createOrReplaceTempView('df')"
      ]
    },
    {
      "cell_type": "markdown",
      "source": [
        "### 1. How many taxi trips were there on February 15?"
      ],
      "metadata": {
        "id": "Uag5dpUAi36k"
      }
    },
    {
      "cell_type": "code",
      "execution_count": 18,
      "metadata": {
        "id": "Kk7V8bvFKmN1",
        "colab": {
          "base_uri": "https://localhost:8080/"
        },
        "outputId": "860d76f9-1029-4604-afc9-5bac7435908c"
      },
      "outputs": [
        {
          "output_type": "stream",
          "name": "stdout",
          "text": [
            "+------+\n",
            "| count|\n",
            "+------+\n",
            "|367170|\n",
            "+------+\n",
            "\n"
          ]
        }
      ],
      "source": [
        "spark.sql('''\n",
        "select\n",
        "    count(pickup_datetime) as count\n",
        "from df\n",
        "where\n",
        "    pickup_datetime >= '2021-02-15' and pickup_datetime < '2021-02-16'\n",
        "''').show()"
      ]
    },
    {
      "cell_type": "markdown",
      "source": [
        "### 2. Find the longest trip for each day ?"
      ],
      "metadata": {
        "id": "iXqYan1ji9oy"
      }
    },
    {
      "cell_type": "code",
      "execution_count": 34,
      "metadata": {
        "id": "sFj2EK-ephXc",
        "colab": {
          "base_uri": "https://localhost:8080/"
        },
        "outputId": "62cf4897-c566-4f77-f28b-b430953f59d1"
      },
      "outputs": [
        {
          "output_type": "stream",
          "name": "stdout",
          "text": [
            "+---------------+------------+\n",
            "|pickup_datetime|longest_trip|\n",
            "+---------------+------------+\n",
            "|     2021-02-18|      527.11|\n",
            "|     2021-02-10|       512.5|\n",
            "|     2021-02-09|      480.73|\n",
            "|     2021-02-27|      454.49|\n",
            "|     2021-02-22|      347.41|\n",
            "|     2021-02-20|      340.64|\n",
            "|     2021-02-19|      329.16|\n",
            "|     2021-02-17|      324.19|\n",
            "|     2021-02-16|     307.661|\n",
            "|     2021-02-24|      301.73|\n",
            "|     2021-02-02|      282.78|\n",
            "|     2021-02-05|      275.32|\n",
            "|     2021-02-06|      266.36|\n",
            "|     2021-02-08|       253.5|\n",
            "|     2021-02-12|      250.11|\n",
            "|     2021-02-11|      240.66|\n",
            "|     2021-02-07|      216.36|\n",
            "|     2021-02-15|      215.21|\n",
            "|     2021-02-01|      212.43|\n",
            "|     2021-02-21|      207.61|\n",
            "|     2021-02-13|      207.44|\n",
            "|     2021-02-04|      203.97|\n",
            "|     2021-02-28|     200.921|\n",
            "|     2021-02-26|     192.465|\n",
            "|     2021-02-03|     191.177|\n",
            "|     2021-02-14|      184.77|\n",
            "|     2021-02-25|      173.82|\n",
            "|     2021-02-23|      163.96|\n",
            "+---------------+------------+\n",
            "\n"
          ]
        }
      ],
      "source": [
        "spark.sql('''\n",
        "select\n",
        "    distinct(date(pickup_datetime)),\n",
        "    max(trip_miles) as longest_trip\n",
        "from df\n",
        "group by\n",
        "  1\n",
        "order by\n",
        "    longest_trip desc\n",
        "''').show(31)"
      ]
    },
    {
      "cell_type": "markdown",
      "source": [
        "### 3. Find Top 5 Most frequent `dispatching_base_num` ?"
      ],
      "metadata": {
        "id": "6GiVGu_0jGWd"
      }
    },
    {
      "cell_type": "code",
      "execution_count": 42,
      "metadata": {
        "id": "mCgqpvuQpm9R",
        "colab": {
          "base_uri": "https://localhost:8080/"
        },
        "outputId": "71ebd3f7-0426-4fcf-ad2b-6ce80fd2a6ca"
      },
      "outputs": [
        {
          "output_type": "stream",
          "name": "stdout",
          "text": [
            "+--------------------+---------------+\n",
            "|dispatching_base_num|5_Most_frequent|\n",
            "+--------------------+---------------+\n",
            "|              B02510|        3233664|\n",
            "|              B02764|         965568|\n",
            "|              B02872|         882689|\n",
            "|              B02875|         685390|\n",
            "|              B02765|         559768|\n",
            "+--------------------+---------------+\n",
            "\n"
          ]
        }
      ],
      "source": [
        "spark.sql('''\n",
        "select\n",
        "    dispatching_base_num, COUNT(dispatching_base_num) as 5_Most_frequent \n",
        "from df\n",
        "GROUP BY 1\n",
        "ORDER BY 2 DESC\n",
        "LIMIT 5\n",
        "''').show()"
      ]
    },
    {
      "cell_type": "markdown",
      "source": [
        "### 4. Find Top 5 Most common location pairs (PUlocationID and DOlocationID) ?"
      ],
      "metadata": {
        "id": "ew1G4AXBjLnx"
      }
    },
    {
      "cell_type": "code",
      "source": [
        "spark.sql('''\n",
        "select\n",
        "    LEAST(PULocationID, DOLocationID) AS PULocationID,\n",
        "    GREATEST(PULocationID, DOLocationID) AS DOLocationID,\n",
        "    COUNT(*) AS journey_count\n",
        "from df\n",
        "GROUP BY 1, 2\n",
        "ORDER BY 3 desc\n",
        "LIMIT 5\n",
        "''').show()"
      ],
      "metadata": {
        "colab": {
          "base_uri": "https://localhost:8080/"
        },
        "id": "GLAGmEWTmZiM",
        "outputId": "69047bf4-972c-43a5-9802-5e5f3d2b2a4e"
      },
      "execution_count": 56,
      "outputs": [
        {
          "output_type": "stream",
          "name": "stdout",
          "text": [
            "+------------+------------+-------------+\n",
            "|PULocationID|DOLocationID|journey_count|\n",
            "+------------+------------+-------------+\n",
            "|          76|          76|        45041|\n",
            "|          26|          26|        37329|\n",
            "|          39|          39|        28026|\n",
            "|          61|          61|        25976|\n",
            "|          61|         188|        23276|\n",
            "+------------+------------+-------------+\n",
            "\n"
          ]
        }
      ]
    }
  ],
  "metadata": {
    "colab": {
      "provenance": []
    },
    "kernelspec": {
      "display_name": "Python 3",
      "name": "python3"
    },
    "language_info": {
      "name": "python"
    }
  },
  "nbformat": 4,
  "nbformat_minor": 0
}